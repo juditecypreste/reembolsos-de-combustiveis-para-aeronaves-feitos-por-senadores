{
 "cells": [
  {
   "cell_type": "markdown",
   "id": "5e2fb14f",
   "metadata": {},
   "source": [
    "# Reembolsos de combustiveis para aeronaves feitos por senadores"
   ]
  },
  {
   "cell_type": "markdown",
   "id": "21ea01f2",
   "metadata": {},
   "source": [
    "Base de dados: https://www12.senado.leg.br/transparencia/dados-abertos-transparencia/dados-abertos-ceaps"
   ]
  },
  {
   "cell_type": "code",
   "execution_count": 1,
   "id": "66df8158",
   "metadata": {},
   "outputs": [],
   "source": [
    "#importando bibliotecas\n",
    "import pandas as pd\n",
    "import glob"
   ]
  },
  {
   "cell_type": "code",
   "execution_count": 2,
   "id": "97af6350",
   "metadata": {},
   "outputs": [],
   "source": [
    "#caminho dos arquivos\n",
    "files = glob.glob(r'C:\\Users\\judite.cypreste\\gastos_senadores\\*')"
   ]
  },
  {
   "cell_type": "code",
   "execution_count": 3,
   "id": "f291074a",
   "metadata": {},
   "outputs": [],
   "source": [
    "#pegando o primeiro csv como modelo\n",
    "df = pd.read_csv(r'.\\gastos_senadores\\despesa_ceaps_2021.csv', encoding='Latin5', sep=';')"
   ]
  },
  {
   "cell_type": "code",
   "execution_count": 4,
   "id": "38668396",
   "metadata": {},
   "outputs": [
    {
     "name": "stderr",
     "output_type": "stream",
     "text": [
      "C:\\Users\\JUDITE~1.CYP\\AppData\\Local\\Temp/ipykernel_7008/3181739731.py:2: FutureWarning: The warn_bad_lines argument has been deprecated and will be removed in a future version.\n",
      "\n",
      "\n",
      "  df = pd.concat([pd.read_csv(file, encoding='Latin5', sep=';', skiprows=1,error_bad_lines=False, warn_bad_lines=True) for file in files])\n",
      "C:\\Users\\JUDITE~1.CYP\\AppData\\Local\\Temp/ipykernel_7008/3181739731.py:2: FutureWarning: The error_bad_lines argument has been deprecated and will be removed in a future version.\n",
      "\n",
      "\n",
      "  df = pd.concat([pd.read_csv(file, encoding='Latin5', sep=';', skiprows=1,error_bad_lines=False, warn_bad_lines=True) for file in files])\n"
     ]
    }
   ],
   "source": [
    "#unindo os csvs\n",
    "df = pd.concat([pd.read_csv(file, encoding='Latin5', sep=';', skiprows=1,error_bad_lines=False, warn_bad_lines=True) for file in files])"
   ]
  },
  {
   "cell_type": "code",
   "execution_count": 5,
   "id": "e197b7e1",
   "metadata": {},
   "outputs": [
    {
     "data": {
      "text/html": [
       "<div>\n",
       "<style scoped>\n",
       "    .dataframe tbody tr th:only-of-type {\n",
       "        vertical-align: middle;\n",
       "    }\n",
       "\n",
       "    .dataframe tbody tr th {\n",
       "        vertical-align: top;\n",
       "    }\n",
       "\n",
       "    .dataframe thead th {\n",
       "        text-align: right;\n",
       "    }\n",
       "</style>\n",
       "<table border=\"1\" class=\"dataframe\">\n",
       "  <thead>\n",
       "    <tr style=\"text-align: right;\">\n",
       "      <th></th>\n",
       "      <th>ANO</th>\n",
       "      <th>MES</th>\n",
       "      <th>SENADOR</th>\n",
       "      <th>TIPO_DESPESA</th>\n",
       "      <th>CNPJ_CPF</th>\n",
       "      <th>FORNECEDOR</th>\n",
       "      <th>DOCUMENTO</th>\n",
       "      <th>DATA</th>\n",
       "      <th>DETALHAMENTO</th>\n",
       "      <th>VALOR_REEMBOLSADO</th>\n",
       "      <th>COD_DOCUMENTO</th>\n",
       "    </tr>\n",
       "  </thead>\n",
       "  <tbody>\n",
       "    <tr>\n",
       "      <th>0</th>\n",
       "      <td>2015</td>\n",
       "      <td>1</td>\n",
       "      <td>ACIR GURGACZ</td>\n",
       "      <td>Aluguel de imóveis para escritório político, c...</td>\n",
       "      <td>05.914.650/0001-66</td>\n",
       "      <td>ENERGISA</td>\n",
       "      <td>647777</td>\n",
       "      <td>14/01/2015</td>\n",
       "      <td>NaN</td>\n",
       "      <td>52,34</td>\n",
       "      <td>2000857.0</td>\n",
       "    </tr>\n",
       "    <tr>\n",
       "      <th>1</th>\n",
       "      <td>2015</td>\n",
       "      <td>1</td>\n",
       "      <td>ACIR GURGACZ</td>\n",
       "      <td>Aluguel de imóveis para escritório político, c...</td>\n",
       "      <td>05.914.650/0001-66</td>\n",
       "      <td>ENERGISA</td>\n",
       "      <td>000647776</td>\n",
       "      <td>18/01/2015</td>\n",
       "      <td>Despesa com pagamento de energia elétrica para...</td>\n",
       "      <td>168,17</td>\n",
       "      <td>2001140.0</td>\n",
       "    </tr>\n",
       "    <tr>\n",
       "      <th>2</th>\n",
       "      <td>2015</td>\n",
       "      <td>1</td>\n",
       "      <td>ACIR GURGACZ</td>\n",
       "      <td>Aluguel de imóveis para escritório político, c...</td>\n",
       "      <td>004.948.028-63</td>\n",
       "      <td>GILBERTO PISELO DO NASCIMENTO</td>\n",
       "      <td>001/15</td>\n",
       "      <td>30/01/2015</td>\n",
       "      <td>Despesa com pagamento de aluguel de imóvel par...</td>\n",
       "      <td>5000</td>\n",
       "      <td>2001144.0</td>\n",
       "    </tr>\n",
       "    <tr>\n",
       "      <th>3</th>\n",
       "      <td>2015</td>\n",
       "      <td>1</td>\n",
       "      <td>ACIR GURGACZ</td>\n",
       "      <td>Aluguel de imóveis para escritório político, c...</td>\n",
       "      <td>05.423.963/0001-11</td>\n",
       "      <td>OI MÓVEL S.A.</td>\n",
       "      <td>556241490</td>\n",
       "      <td>19/01/2015</td>\n",
       "      <td>Despesa com pagamento de telefonia para uso do...</td>\n",
       "      <td>416,95</td>\n",
       "      <td>2001141.0</td>\n",
       "    </tr>\n",
       "    <tr>\n",
       "      <th>4</th>\n",
       "      <td>2015</td>\n",
       "      <td>1</td>\n",
       "      <td>ACIR GURGACZ</td>\n",
       "      <td>Aquisição de material de consumo para uso no e...</td>\n",
       "      <td>07.170.542/0001-51</td>\n",
       "      <td>INK JET INFORMATICA E PAPELARIA LTDA EPP</td>\n",
       "      <td>14654</td>\n",
       "      <td>09/01/2015</td>\n",
       "      <td>Despesa com material de consumo para uso do es...</td>\n",
       "      <td>108,5</td>\n",
       "      <td>2001139.0</td>\n",
       "    </tr>\n",
       "  </tbody>\n",
       "</table>\n",
       "</div>"
      ],
      "text/plain": [
       "    ANO  MES       SENADOR                                       TIPO_DESPESA  \\\n",
       "0  2015    1  ACIR GURGACZ  Aluguel de imóveis para escritório político, c...   \n",
       "1  2015    1  ACIR GURGACZ  Aluguel de imóveis para escritório político, c...   \n",
       "2  2015    1  ACIR GURGACZ  Aluguel de imóveis para escritório político, c...   \n",
       "3  2015    1  ACIR GURGACZ  Aluguel de imóveis para escritório político, c...   \n",
       "4  2015    1  ACIR GURGACZ  Aquisição de material de consumo para uso no e...   \n",
       "\n",
       "             CNPJ_CPF                                FORNECEDOR  DOCUMENTO  \\\n",
       "0  05.914.650/0001-66                                  ENERGISA     647777   \n",
       "1  05.914.650/0001-66                                  ENERGISA  000647776   \n",
       "2      004.948.028-63             GILBERTO PISELO DO NASCIMENTO     001/15   \n",
       "3  05.423.963/0001-11                             OI MÓVEL S.A.  556241490   \n",
       "4  07.170.542/0001-51  INK JET INFORMATICA E PAPELARIA LTDA EPP      14654   \n",
       "\n",
       "         DATA                                       DETALHAMENTO  \\\n",
       "0  14/01/2015                                                NaN   \n",
       "1  18/01/2015  Despesa com pagamento de energia elétrica para...   \n",
       "2  30/01/2015  Despesa com pagamento de aluguel de imóvel par...   \n",
       "3  19/01/2015  Despesa com pagamento de telefonia para uso do...   \n",
       "4  09/01/2015  Despesa com material de consumo para uso do es...   \n",
       "\n",
       "  VALOR_REEMBOLSADO  COD_DOCUMENTO  \n",
       "0             52,34      2000857.0  \n",
       "1            168,17      2001140.0  \n",
       "2              5000      2001144.0  \n",
       "3            416,95      2001141.0  \n",
       "4             108,5      2001139.0  "
      ]
     },
     "execution_count": 5,
     "metadata": {},
     "output_type": "execute_result"
    }
   ],
   "source": [
    "#vendo meu df\n",
    "df.head()"
   ]
  },
  {
   "cell_type": "code",
   "execution_count": 6,
   "id": "b0801f3c",
   "metadata": {},
   "outputs": [],
   "source": [
    "#padronizando DETALHAMENTO\n",
    "#colocando em maiúsculo\n",
    "df['DETALHAMENTO'] = df['DETALHAMENTO'].str.upper()"
   ]
  },
  {
   "cell_type": "code",
   "execution_count": 7,
   "id": "c166d6e5",
   "metadata": {},
   "outputs": [],
   "source": [
    "#substituindo ',' por '.' e dizendo que a coluna 'VALOR_REEMBOLSADO' é numerica\n",
    "df['VALOR_REEMBOLSADO'] = df['VALOR_REEMBOLSADO'].str.replace(',','.')\n",
    "df['VALOR_REEMBOLSADO'] = df['VALOR_REEMBOLSADO'].astype(float)"
   ]
  },
  {
   "cell_type": "code",
   "execution_count": 8,
   "id": "1c436b7a",
   "metadata": {
    "scrolled": false
   },
   "outputs": [
    {
     "data": {
      "text/plain": [
       "array(['Aluguel de imóveis para escritório político, compreendendo despesas concernentes a eles.',\n",
       "       'Aquisição de material de consumo para uso no escritório político, inclusive aquisição ou locação de software, despesas postais, aquisição de publicações, locação de móveis e de equipamentos. ',\n",
       "       'Divulgação da atividade parlamentar',\n",
       "       'Locomoção, hospedagem, alimentação, combustíveis e lubrificantes',\n",
       "       'Passagens aéreas, aquáticas e terrestres nacionais',\n",
       "       'Contratação de consultorias, assessorias, pesquisas, trabalhos técnicos e outros serviços de apoio ao exercício do mandato parlamentar',\n",
       "       'Serviços de Segurança Privada'], dtype=object)"
      ]
     },
     "execution_count": 8,
     "metadata": {},
     "output_type": "execute_result"
    }
   ],
   "source": [
    "#analisando quais são os tipos de despesas\n",
    "df['TIPO_DESPESA'].unique()"
   ]
  },
  {
   "cell_type": "code",
   "execution_count": 9,
   "id": "29a1663b",
   "metadata": {},
   "outputs": [],
   "source": [
    "#selecionando apenas despesas relativas a gastos com 'Locomoção, hospedagem, alimentação, combustíveis e lubrificantes'\n",
    "df = df[df['TIPO_DESPESA'].isin(['Locomoção, hospedagem, alimentação, combustíveis e lubrificantes'])]"
   ]
  },
  {
   "cell_type": "code",
   "execution_count": 10,
   "id": "7f59bd1c",
   "metadata": {
    "scrolled": true
   },
   "outputs": [
    {
     "data": {
      "text/html": [
       "<div>\n",
       "<style scoped>\n",
       "    .dataframe tbody tr th:only-of-type {\n",
       "        vertical-align: middle;\n",
       "    }\n",
       "\n",
       "    .dataframe tbody tr th {\n",
       "        vertical-align: top;\n",
       "    }\n",
       "\n",
       "    .dataframe thead th {\n",
       "        text-align: right;\n",
       "    }\n",
       "</style>\n",
       "<table border=\"1\" class=\"dataframe\">\n",
       "  <thead>\n",
       "    <tr style=\"text-align: right;\">\n",
       "      <th></th>\n",
       "      <th>ANO</th>\n",
       "      <th>MES</th>\n",
       "      <th>SENADOR</th>\n",
       "      <th>TIPO_DESPESA</th>\n",
       "      <th>CNPJ_CPF</th>\n",
       "      <th>FORNECEDOR</th>\n",
       "      <th>DOCUMENTO</th>\n",
       "      <th>DATA</th>\n",
       "      <th>DETALHAMENTO</th>\n",
       "      <th>VALOR_REEMBOLSADO</th>\n",
       "      <th>COD_DOCUMENTO</th>\n",
       "    </tr>\n",
       "  </thead>\n",
       "  <tbody>\n",
       "    <tr>\n",
       "      <th>6</th>\n",
       "      <td>2015</td>\n",
       "      <td>1</td>\n",
       "      <td>ACIR GURGACZ</td>\n",
       "      <td>Locomoção, hospedagem, alimentação, combustíve...</td>\n",
       "      <td>34.274.233/0097-46</td>\n",
       "      <td>PETROBRAS DISTRIBUIDORA</td>\n",
       "      <td>000498499</td>\n",
       "      <td>26/01/2015</td>\n",
       "      <td>DESPESA COM PAGAMENTO DE COMBUSTÍVEL PARA ABAS...</td>\n",
       "      <td>3495.39</td>\n",
       "      <td>2001142.0</td>\n",
       "    </tr>\n",
       "    <tr>\n",
       "      <th>13</th>\n",
       "      <td>2015</td>\n",
       "      <td>2</td>\n",
       "      <td>ACIR GURGACZ</td>\n",
       "      <td>Locomoção, hospedagem, alimentação, combustíve...</td>\n",
       "      <td>34.274.233/0097-46</td>\n",
       "      <td>PETROBRAS DISTRIBUIDORA</td>\n",
       "      <td>000502038</td>\n",
       "      <td>10/02/2015</td>\n",
       "      <td>DESPESA COM PAGAMENTO DE COMBUSTÍVEL PARA ABAS...</td>\n",
       "      <td>1728.80</td>\n",
       "      <td>2001149.0</td>\n",
       "    </tr>\n",
       "    <tr>\n",
       "      <th>14</th>\n",
       "      <td>2015</td>\n",
       "      <td>2</td>\n",
       "      <td>ACIR GURGACZ</td>\n",
       "      <td>Locomoção, hospedagem, alimentação, combustíve...</td>\n",
       "      <td>34.274.233/0097-46</td>\n",
       "      <td>PETROBRAS DISTRIBUIDORA</td>\n",
       "      <td>000502045</td>\n",
       "      <td>10/02/2015</td>\n",
       "      <td>DESPESA COM COMBUSTÍVEL PARA ABASTECIMENTO DE ...</td>\n",
       "      <td>2271.58</td>\n",
       "      <td>2001147.0</td>\n",
       "    </tr>\n",
       "    <tr>\n",
       "      <th>15</th>\n",
       "      <td>2015</td>\n",
       "      <td>2</td>\n",
       "      <td>ACIR GURGACZ</td>\n",
       "      <td>Locomoção, hospedagem, alimentação, combustíve...</td>\n",
       "      <td>34.274.233/0097-46</td>\n",
       "      <td>PETROBRAS DISTRIBUIDORA</td>\n",
       "      <td>000502365</td>\n",
       "      <td>11/02/2015</td>\n",
       "      <td>DESPESA COM PAGAMENTO DE COMBUSTÍVEL PARA ABAS...</td>\n",
       "      <td>4403.33</td>\n",
       "      <td>2001153.0</td>\n",
       "    </tr>\n",
       "    <tr>\n",
       "      <th>16</th>\n",
       "      <td>2015</td>\n",
       "      <td>2</td>\n",
       "      <td>ACIR GURGACZ</td>\n",
       "      <td>Locomoção, hospedagem, alimentação, combustíve...</td>\n",
       "      <td>34.274.233/0097-46</td>\n",
       "      <td>PETROBRAS DISTRIBUIDORA</td>\n",
       "      <td>000505522</td>\n",
       "      <td>26/02/2015</td>\n",
       "      <td>DESPESA COM AQUISIÇÃO DE COMBUSTÍVEL PARA ABAS...</td>\n",
       "      <td>1935.97</td>\n",
       "      <td>2002323.0</td>\n",
       "    </tr>\n",
       "  </tbody>\n",
       "</table>\n",
       "</div>"
      ],
      "text/plain": [
       "     ANO  MES       SENADOR  \\\n",
       "6   2015    1  ACIR GURGACZ   \n",
       "13  2015    2  ACIR GURGACZ   \n",
       "14  2015    2  ACIR GURGACZ   \n",
       "15  2015    2  ACIR GURGACZ   \n",
       "16  2015    2  ACIR GURGACZ   \n",
       "\n",
       "                                         TIPO_DESPESA            CNPJ_CPF  \\\n",
       "6   Locomoção, hospedagem, alimentação, combustíve...  34.274.233/0097-46   \n",
       "13  Locomoção, hospedagem, alimentação, combustíve...  34.274.233/0097-46   \n",
       "14  Locomoção, hospedagem, alimentação, combustíve...  34.274.233/0097-46   \n",
       "15  Locomoção, hospedagem, alimentação, combustíve...  34.274.233/0097-46   \n",
       "16  Locomoção, hospedagem, alimentação, combustíve...  34.274.233/0097-46   \n",
       "\n",
       "                 FORNECEDOR  DOCUMENTO        DATA  \\\n",
       "6   PETROBRAS DISTRIBUIDORA  000498499  26/01/2015   \n",
       "13  PETROBRAS DISTRIBUIDORA  000502038  10/02/2015   \n",
       "14  PETROBRAS DISTRIBUIDORA  000502045  10/02/2015   \n",
       "15  PETROBRAS DISTRIBUIDORA  000502365  11/02/2015   \n",
       "16  PETROBRAS DISTRIBUIDORA  000505522  26/02/2015   \n",
       "\n",
       "                                         DETALHAMENTO  VALOR_REEMBOLSADO  \\\n",
       "6   DESPESA COM PAGAMENTO DE COMBUSTÍVEL PARA ABAS...            3495.39   \n",
       "13  DESPESA COM PAGAMENTO DE COMBUSTÍVEL PARA ABAS...            1728.80   \n",
       "14  DESPESA COM COMBUSTÍVEL PARA ABASTECIMENTO DE ...            2271.58   \n",
       "15  DESPESA COM PAGAMENTO DE COMBUSTÍVEL PARA ABAS...            4403.33   \n",
       "16  DESPESA COM AQUISIÇÃO DE COMBUSTÍVEL PARA ABAS...            1935.97   \n",
       "\n",
       "    COD_DOCUMENTO  \n",
       "6       2001142.0  \n",
       "13      2001149.0  \n",
       "14      2001147.0  \n",
       "15      2001153.0  \n",
       "16      2002323.0  "
      ]
     },
     "execution_count": 10,
     "metadata": {},
     "output_type": "execute_result"
    }
   ],
   "source": [
    "#vendo meu df\n",
    "df.head()"
   ]
  },
  {
   "cell_type": "code",
   "execution_count": 11,
   "id": "4f3427c9",
   "metadata": {},
   "outputs": [],
   "source": [
    "#excluindo os que estiveram com o detalhamento 'nulo'\n",
    "df = df[df['DETALHAMENTO'].notnull()]"
   ]
  },
  {
   "cell_type": "code",
   "execution_count": 12,
   "id": "6d6cf92e",
   "metadata": {},
   "outputs": [],
   "source": [
    "#exportando o csv completo para analisar melhor\n",
    "df.to_csv('combustiveis_aviao_senado.csv', index=False, encoding = 'Latin5')"
   ]
  }
 ],
 "metadata": {
  "kernelspec": {
   "display_name": "Python 3 (ipykernel)",
   "language": "python",
   "name": "python3"
  },
  "language_info": {
   "codemirror_mode": {
    "name": "ipython",
    "version": 3
   },
   "file_extension": ".py",
   "mimetype": "text/x-python",
   "name": "python",
   "nbconvert_exporter": "python",
   "pygments_lexer": "ipython3",
   "version": "3.9.7"
  }
 },
 "nbformat": 4,
 "nbformat_minor": 5
}
